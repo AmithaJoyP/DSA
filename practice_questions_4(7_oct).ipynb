{
  "cells": [
    {
      "cell_type": "markdown",
      "id": "3e844882",
      "metadata": {
        "id": "3e844882"
      },
      "source": [
        "# 1. Create a NumPy array of integers from 1 to 10"
      ]
    },
    {
      "cell_type": "code",
      "execution_count": 18,
      "id": "9d4e8ad3",
      "metadata": {
        "id": "9d4e8ad3"
      },
      "outputs": [],
      "source": [
        "import numpy as np"
      ]
    },
    {
      "cell_type": "code",
      "execution_count": null,
      "id": "284ef23a",
      "metadata": {
        "id": "284ef23a",
        "outputId": "3b7fc2d6-cee6-4eeb-96a0-a76f3a06c18f"
      },
      "outputs": [
        {
          "data": {
            "text/plain": [
              "array([ 1,  2,  3,  4,  5,  6,  7,  8,  9, 10])"
            ]
          },
          "execution_count": 13,
          "metadata": {},
          "output_type": "execute_result"
        }
      ],
      "source": [
        "arr1=np.arange(1,11)\n",
        "arr1"
      ]
    },
    {
      "cell_type": "markdown",
      "id": "1261b60e",
      "metadata": {
        "id": "1261b60e"
      },
      "source": [
        "# 2. Create a 2x3 NumPy array filled with zeros.\n"
      ]
    },
    {
      "cell_type": "code",
      "execution_count": null,
      "id": "eb5dbb4e",
      "metadata": {
        "id": "eb5dbb4e",
        "outputId": "bbb3a1e5-f69c-4b32-aef4-5da5fce43a30"
      },
      "outputs": [
        {
          "data": {
            "text/plain": [
              "array([[0., 0., 0.],\n",
              "       [0., 0., 0.]])"
            ]
          },
          "execution_count": 15,
          "metadata": {},
          "output_type": "execute_result"
        }
      ],
      "source": [
        "np.zeros((2,3))"
      ]
    },
    {
      "cell_type": "markdown",
      "id": "b49b39d7",
      "metadata": {
        "id": "b49b39d7"
      },
      "source": [
        "# 3. Create a NumPy array of even numbers from 2 to 20."
      ]
    },
    {
      "cell_type": "code",
      "execution_count": null,
      "id": "19099e13",
      "metadata": {
        "id": "19099e13"
      },
      "outputs": [],
      "source": [
        "arr2=np.arange(2,21,2)"
      ]
    },
    {
      "cell_type": "code",
      "execution_count": null,
      "id": "5046fa8b",
      "metadata": {
        "id": "5046fa8b",
        "outputId": "506097d3-d2a4-4d68-f720-6124fc6d53f4"
      },
      "outputs": [
        {
          "data": {
            "text/plain": [
              "array([ 2,  4,  6,  8, 10, 12, 14, 16, 18, 20])"
            ]
          },
          "execution_count": 31,
          "metadata": {},
          "output_type": "execute_result"
        }
      ],
      "source": [
        "arr2"
      ]
    },
    {
      "cell_type": "markdown",
      "id": "2b4da4f2",
      "metadata": {
        "id": "2b4da4f2"
      },
      "source": [
        "# 4. Given two NumPy arrays, arr1 = np.array([1, 2, 3]) and arr2 = np.array([4,\n",
        "5, 6]), perform element-wise addition, subtraction, multiplication, and\n",
        "division between the two arrays."
      ]
    },
    {
      "cell_type": "code",
      "execution_count": null,
      "id": "e2ee4646",
      "metadata": {
        "id": "e2ee4646"
      },
      "outputs": [],
      "source": [
        "arr1=np.array([1,2,3])\n",
        "arr2=np.array([4,5,6])"
      ]
    },
    {
      "cell_type": "code",
      "execution_count": null,
      "id": "5c0316a2",
      "metadata": {
        "id": "5c0316a2",
        "outputId": "c1672d4e-4721-4d28-87ae-ec1d98b6eccf"
      },
      "outputs": [
        {
          "data": {
            "text/plain": [
              "array([5, 7, 9])"
            ]
          },
          "execution_count": 34,
          "metadata": {},
          "output_type": "execute_result"
        }
      ],
      "source": [
        "arr1+arr2"
      ]
    },
    {
      "cell_type": "code",
      "execution_count": null,
      "id": "d449d9ee",
      "metadata": {
        "id": "d449d9ee",
        "outputId": "57f729bf-a27e-4843-9761-06e1ea6e178f"
      },
      "outputs": [
        {
          "data": {
            "text/plain": [
              "array([-3, -3, -3])"
            ]
          },
          "execution_count": 35,
          "metadata": {},
          "output_type": "execute_result"
        }
      ],
      "source": [
        "arr1-arr2"
      ]
    },
    {
      "cell_type": "code",
      "execution_count": null,
      "id": "5593ec33",
      "metadata": {
        "id": "5593ec33",
        "outputId": "7967d001-0f39-4468-e011-351d62bcea9a"
      },
      "outputs": [
        {
          "data": {
            "text/plain": [
              "array([ 4, 10, 18])"
            ]
          },
          "execution_count": 36,
          "metadata": {},
          "output_type": "execute_result"
        }
      ],
      "source": [
        "arr1*arr2"
      ]
    },
    {
      "cell_type": "code",
      "execution_count": null,
      "id": "4ba99706",
      "metadata": {
        "id": "4ba99706",
        "outputId": "0bfa29e9-176c-4d83-ffd1-50b88d42e650"
      },
      "outputs": [
        {
          "data": {
            "text/plain": [
              "array([0.25, 0.4 , 0.5 ])"
            ]
          },
          "execution_count": 37,
          "metadata": {},
          "output_type": "execute_result"
        }
      ],
      "source": [
        "arr1/arr2"
      ]
    },
    {
      "cell_type": "markdown",
      "id": "f9206bfa",
      "metadata": {
        "id": "f9206bfa"
      },
      "source": [
        "# 5. Compute the mean, median, and standard deviation of a NumPy array\n",
        "containing 100 random numbers.\n"
      ]
    },
    {
      "cell_type": "code",
      "execution_count": null,
      "id": "2fafd88f",
      "metadata": {
        "id": "2fafd88f",
        "outputId": "d3363bbe-8a52-4eba-c09e-b0ccdcd7b16e"
      },
      "outputs": [
        {
          "data": {
            "text/plain": [
              "48.32"
            ]
          },
          "execution_count": 68,
          "metadata": {},
          "output_type": "execute_result"
        }
      ],
      "source": [
        "arr3=np.random.randint(0,100,100)\n",
        "np.mean(arr3)"
      ]
    },
    {
      "cell_type": "code",
      "execution_count": null,
      "id": "b8c4dca4",
      "metadata": {
        "id": "b8c4dca4",
        "outputId": "6bffcd6c-05f8-495e-a9dd-6067ea2b0a26"
      },
      "outputs": [
        {
          "data": {
            "text/plain": [
              "44.5"
            ]
          },
          "execution_count": 69,
          "metadata": {},
          "output_type": "execute_result"
        }
      ],
      "source": [
        "np.median(arr3)"
      ]
    },
    {
      "cell_type": "code",
      "execution_count": null,
      "id": "9e72e71c",
      "metadata": {
        "id": "9e72e71c",
        "outputId": "44f319f7-01a8-477d-f64f-ad92685a406d"
      },
      "outputs": [
        {
          "data": {
            "text/plain": [
              "29.08981952505034"
            ]
          },
          "execution_count": 71,
          "metadata": {},
          "output_type": "execute_result"
        }
      ],
      "source": [
        "np.std(arr3)"
      ]
    },
    {
      "cell_type": "markdown",
      "id": "d598919a",
      "metadata": {
        "id": "d598919a"
      },
      "source": [
        "# 6. Reshape a 1D NumPy array of 12 random elements into a 2D array with a\n",
        "shape of (3, 4)."
      ]
    },
    {
      "cell_type": "code",
      "execution_count": null,
      "id": "74863b1a",
      "metadata": {
        "id": "74863b1a",
        "outputId": "27376ff5-7864-4ffe-bf83-7d7208bc7c14"
      },
      "outputs": [
        {
          "data": {
            "text/plain": [
              "array([[ 9, 23, 24, 29],\n",
              "       [25, 23, 26, 19],\n",
              "       [ 7, 16, 25,  3]])"
            ]
          },
          "execution_count": 60,
          "metadata": {},
          "output_type": "execute_result"
        }
      ],
      "source": [
        "arr4=np.random.randint(0,30,12)\n",
        "arr5=arr4.reshape(3,4)\n",
        "arr5"
      ]
    },
    {
      "cell_type": "markdown",
      "id": "9deb23e6",
      "metadata": {
        "id": "9deb23e6"
      },
      "source": [
        "# 7. Given a NumPy array arr = np.array([1, 2, 3, 4, 5]), square each element in\n",
        "the array using NumPy functions."
      ]
    },
    {
      "cell_type": "code",
      "execution_count": null,
      "id": "11c5b795",
      "metadata": {
        "id": "11c5b795",
        "outputId": "fedb28d0-64f9-4291-b1a0-2dbf13c8e95c"
      },
      "outputs": [
        {
          "data": {
            "text/plain": [
              "array([ 1,  4,  9, 16, 25])"
            ]
          },
          "execution_count": 62,
          "metadata": {},
          "output_type": "execute_result"
        }
      ],
      "source": [
        "arr=np.array([1,2,3,4,5])\n",
        "np.square(arr)"
      ]
    },
    {
      "cell_type": "markdown",
      "id": "ee2d58c5",
      "metadata": {
        "id": "ee2d58c5"
      },
      "source": [
        "# 8. Create a 5x5 identity matrix using NumPy."
      ]
    },
    {
      "cell_type": "code",
      "execution_count": null,
      "id": "9c88df0f",
      "metadata": {
        "id": "9c88df0f",
        "outputId": "3085b593-ba66-4d52-af0b-f697a72e1568"
      },
      "outputs": [
        {
          "data": {
            "text/plain": [
              "array([[1., 0., 0., 0., 0.],\n",
              "       [0., 1., 0., 0., 0.],\n",
              "       [0., 0., 1., 0., 0.],\n",
              "       [0., 0., 0., 1., 0.],\n",
              "       [0., 0., 0., 0., 1.]])"
            ]
          },
          "execution_count": 63,
          "metadata": {},
          "output_type": "execute_result"
        }
      ],
      "source": [
        "np.eye(5,5)"
      ]
    },
    {
      "cell_type": "markdown",
      "id": "ef246fd5",
      "metadata": {
        "id": "ef246fd5"
      },
      "source": [
        "# 9. Calculate the dot product of two NumPy arrays, a = np.array([1, 2, 3]) and\n",
        "b = np.array([4, 5, 6])"
      ]
    },
    {
      "cell_type": "code",
      "execution_count": null,
      "id": "544da0ad",
      "metadata": {
        "id": "544da0ad",
        "outputId": "65330d0e-4feb-48ab-b3fd-7b0f011da087"
      },
      "outputs": [
        {
          "data": {
            "text/plain": [
              "32"
            ]
          },
          "execution_count": 65,
          "metadata": {},
          "output_type": "execute_result"
        }
      ],
      "source": [
        "a=np.array([1, 2, 3])\n",
        "b = np.array([4, 5, 6])\n",
        "a.dot(b)"
      ]
    },
    {
      "cell_type": "markdown",
      "id": "2677ec74",
      "metadata": {
        "id": "2677ec74"
      },
      "source": [
        "# 10.Find the index of the maximum value and the index of the minimum value\n",
        "in a NumPy array."
      ]
    },
    {
      "cell_type": "code",
      "execution_count": 19,
      "id": "10a16f69",
      "metadata": {
        "id": "10a16f69",
        "outputId": "cf26dcd5-4d54-4f47-d847-6d1749281954",
        "colab": {
          "base_uri": "https://localhost:8080/"
        }
      },
      "outputs": [
        {
          "output_type": "execute_result",
          "data": {
            "text/plain": [
              "5"
            ]
          },
          "metadata": {},
          "execution_count": 19
        }
      ],
      "source": [
        "arr9=([1,2,3,8,9,10])\n",
        "np.argmax(arr9)"
      ]
    },
    {
      "cell_type": "code",
      "source": [
        "np.argmin(arr9)"
      ],
      "metadata": {
        "id": "968w6Oo8x6q9",
        "colab": {
          "base_uri": "https://localhost:8080/"
        },
        "outputId": "c2a5e86e-3686-4ff6-bf62-41106d90eb1c"
      },
      "id": "968w6Oo8x6q9",
      "execution_count": 20,
      "outputs": [
        {
          "output_type": "execute_result",
          "data": {
            "text/plain": [
              "0"
            ]
          },
          "metadata": {},
          "execution_count": 20
        }
      ]
    },
    {
      "cell_type": "markdown",
      "id": "94b36990",
      "metadata": {
        "id": "94b36990"
      },
      "source": [
        "# 11.Concatenate two random NumPy arrays horizontally and vertically"
      ]
    },
    {
      "cell_type": "code",
      "execution_count": null,
      "id": "a76af7cb",
      "metadata": {
        "id": "a76af7cb",
        "colab": {
          "base_uri": "https://localhost:8080/"
        },
        "outputId": "88ecda66-f326-43b4-c701-1f1c66fb1856"
      },
      "outputs": [
        {
          "output_type": "execute_result",
          "data": {
            "text/plain": [
              "array([0, 0])"
            ]
          },
          "metadata": {},
          "execution_count": 79
        }
      ],
      "source": [
        "arr10=np.random.randint(2)\n",
        "arr11=np.random.randint(2)\n",
        "np.hstack((arr10,arr11))"
      ]
    },
    {
      "cell_type": "code",
      "source": [
        "np.vstack((arr10,arr11))"
      ],
      "metadata": {
        "colab": {
          "base_uri": "https://localhost:8080/"
        },
        "id": "MJPKr2x8sPGy",
        "outputId": "d063503a-5391-4ffc-cb23-30167b1c31f0"
      },
      "id": "MJPKr2x8sPGy",
      "execution_count": null,
      "outputs": [
        {
          "output_type": "execute_result",
          "data": {
            "text/plain": [
              "array([[0],\n",
              "       [0]])"
            ]
          },
          "metadata": {},
          "execution_count": 80
        }
      ]
    },
    {
      "cell_type": "markdown",
      "id": "f201554c",
      "metadata": {
        "id": "f201554c"
      },
      "source": [
        "# 12.Given a 2D NumPy array, calculate the sum of each row and each column\n",
        "separately."
      ]
    },
    {
      "cell_type": "code",
      "source": [
        "arr12=np.arange(1,10)\n",
        "np.sum(arr12)"
      ],
      "metadata": {
        "id": "zo4S8ZIzsV_j",
        "colab": {
          "base_uri": "https://localhost:8080/"
        },
        "outputId": "4289d997-a300-4c69-fcb1-9e1c5200c293"
      },
      "id": "zo4S8ZIzsV_j",
      "execution_count": null,
      "outputs": [
        {
          "output_type": "execute_result",
          "data": {
            "text/plain": [
              "45"
            ]
          },
          "metadata": {},
          "execution_count": 82
        }
      ]
    },
    {
      "cell_type": "markdown",
      "id": "44c26a5f",
      "metadata": {
        "id": "44c26a5f"
      },
      "source": [
        "# 13.Find the common elements between two NumPy arrays"
      ]
    },
    {
      "cell_type": "code",
      "source": [
        "arr13=np.array([[1,10],[2,9],[1,3]])\n",
        "arr14=np.array([[1,3],[2,4],[8,5]])\n",
        "np.intersect1d(arr13,arr14)"
      ],
      "metadata": {
        "id": "UCNO23GdsZyW",
        "colab": {
          "base_uri": "https://localhost:8080/"
        },
        "outputId": "b6baa606-5e70-4cf2-ac16-0e043d423aa6"
      },
      "id": "UCNO23GdsZyW",
      "execution_count": 26,
      "outputs": [
        {
          "output_type": "execute_result",
          "data": {
            "text/plain": [
              "array([1, 2, 3])"
            ]
          },
          "metadata": {},
          "execution_count": 26
        }
      ]
    },
    {
      "cell_type": "markdown",
      "id": "a12c0339",
      "metadata": {
        "id": "a12c0339"
      },
      "source": [
        "# 14.Replace all negative values in a NumPy array with zeros."
      ]
    },
    {
      "cell_type": "code",
      "source": [
        "arr15=np.array([-3,-2,-1,0,1,2,3])\n",
        "arr15[arr15<0]=0\n",
        "arr15"
      ],
      "metadata": {
        "id": "CqC4JqEPsa5A",
        "colab": {
          "base_uri": "https://localhost:8080/"
        },
        "outputId": "b7c839e7-61ba-4e8a-8d2c-286045a07a83"
      },
      "id": "CqC4JqEPsa5A",
      "execution_count": null,
      "outputs": [
        {
          "output_type": "execute_result",
          "data": {
            "text/plain": [
              "array([0, 0, 0, 0, 1, 2, 3])"
            ]
          },
          "metadata": {},
          "execution_count": 33
        }
      ]
    },
    {
      "cell_type": "markdown",
      "id": "b2428b8a",
      "metadata": {
        "id": "b2428b8a"
      },
      "source": [
        "# 15.Create a NumPy array with random integers between 1 and 100 and then\n",
        "sort it in ascending order.\n"
      ]
    },
    {
      "cell_type": "code",
      "source": [
        "arr=np.random.randint(1,100,5)\n",
        "np.sort(arr)"
      ],
      "metadata": {
        "id": "op0AXQy_sb9n",
        "colab": {
          "base_uri": "https://localhost:8080/"
        },
        "outputId": "9fe5469c-8a42-4fec-bbcc-890c2f007ed4"
      },
      "id": "op0AXQy_sb9n",
      "execution_count": 27,
      "outputs": [
        {
          "output_type": "execute_result",
          "data": {
            "text/plain": [
              "array([ 1, 18, 20, 23, 24])"
            ]
          },
          "metadata": {},
          "execution_count": 27
        }
      ]
    },
    {
      "cell_type": "markdown",
      "id": "5446350e",
      "metadata": {
        "id": "5446350e"
      },
      "source": [
        "# 16.Calculate the element-wise absolute difference between two NumPy\n",
        "arrays."
      ]
    },
    {
      "cell_type": "code",
      "source": [
        "arr16=np.array([1,2,3])\n",
        "arr17=np.array([4,5,6])\n",
        "np.absolute(arr16,arr17)"
      ],
      "metadata": {
        "id": "u9jzCnIqsdvN",
        "colab": {
          "base_uri": "https://localhost:8080/"
        },
        "outputId": "dd6bf440-3c10-4034-81fe-b7817b92eea2"
      },
      "id": "u9jzCnIqsdvN",
      "execution_count": 23,
      "outputs": [
        {
          "output_type": "execute_result",
          "data": {
            "text/plain": [
              "array([1, 2, 3])"
            ]
          },
          "metadata": {},
          "execution_count": 23
        }
      ]
    },
    {
      "cell_type": "markdown",
      "id": "4db32d3d",
      "metadata": {
        "id": "4db32d3d"
      },
      "source": [
        "# 17.Given a 2D NumPy array, extract the first row and the last column."
      ]
    },
    {
      "cell_type": "code",
      "source": [
        "arr18=np.array([[1,2],[6,7],[8,9]])\n",
        "arr18[:,0]"
      ],
      "metadata": {
        "colab": {
          "base_uri": "https://localhost:8080/"
        },
        "id": "n-RQK1fRsenJ",
        "outputId": "3ebb0e04-5adf-4ac8-9e9d-58d4b8b27c13"
      },
      "id": "n-RQK1fRsenJ",
      "execution_count": 35,
      "outputs": [
        {
          "output_type": "execute_result",
          "data": {
            "text/plain": [
              "array([1, 6, 8])"
            ]
          },
          "metadata": {},
          "execution_count": 35
        }
      ]
    },
    {
      "cell_type": "code",
      "source": [
        "arr18[:,1]"
      ],
      "metadata": {
        "colab": {
          "base_uri": "https://localhost:8080/"
        },
        "id": "bt0NstC9a9Oh",
        "outputId": "2a9b2046-3f88-4e6d-bc82-7548c8f3d93d"
      },
      "id": "bt0NstC9a9Oh",
      "execution_count": 36,
      "outputs": [
        {
          "output_type": "execute_result",
          "data": {
            "text/plain": [
              "array([2, 7, 9])"
            ]
          },
          "metadata": {},
          "execution_count": 36
        }
      ]
    },
    {
      "cell_type": "markdown",
      "id": "2d317a7d",
      "metadata": {
        "id": "2d317a7d"
      },
      "source": [
        "# 18.Slice a 1D NumPy array to get every other element."
      ]
    },
    {
      "cell_type": "code",
      "source": [
        "arr19=np.array([1,2,3,4])\n",
        "arr19[1:4]"
      ],
      "metadata": {
        "id": "ckA-_LULsfdI",
        "colab": {
          "base_uri": "https://localhost:8080/"
        },
        "outputId": "94da50a2-9a74-4d43-9ab9-62ccc3eaca7f"
      },
      "id": "ckA-_LULsfdI",
      "execution_count": null,
      "outputs": [
        {
          "output_type": "execute_result",
          "data": {
            "text/plain": [
              "array([2, 3, 4])"
            ]
          },
          "metadata": {},
          "execution_count": 39
        }
      ]
    },
    {
      "cell_type": "markdown",
      "id": "b791e22a",
      "metadata": {
        "id": "b791e22a"
      },
      "source": [
        "# 19.Given a 2D NumPy array, extract a subarray consisting of the central 2x2\n",
        "elements."
      ]
    },
    {
      "cell_type": "code",
      "source": [
        "arr20=np.array([[1,2,3],\n",
        "               [4,5,6,],\n",
        "              [7,8,9]])\n",
        "arr20[:2,:2]"
      ],
      "metadata": {
        "id": "hPV7r3mEsgu_",
        "colab": {
          "base_uri": "https://localhost:8080/"
        },
        "outputId": "4001825b-7bc5-482e-803f-f67563191636"
      },
      "id": "hPV7r3mEsgu_",
      "execution_count": null,
      "outputs": [
        {
          "output_type": "execute_result",
          "data": {
            "text/plain": [
              "array([[1, 2],\n",
              "       [4, 5]])"
            ]
          },
          "metadata": {},
          "execution_count": 49
        }
      ]
    },
    {
      "cell_type": "markdown",
      "id": "75b779b5",
      "metadata": {
        "id": "75b779b5"
      },
      "source": [
        "# 20.Reverse a 1D NumPy array using slicing"
      ]
    },
    {
      "cell_type": "code",
      "execution_count": null,
      "id": "9105f653",
      "metadata": {
        "id": "9105f653",
        "colab": {
          "base_uri": "https://localhost:8080/"
        },
        "outputId": "e4d87725-0a3e-4884-e61a-dfd45924b236"
      },
      "outputs": [
        {
          "output_type": "execute_result",
          "data": {
            "text/plain": [
              "array([[3, 2, 1]])"
            ]
          },
          "metadata": {},
          "execution_count": 64
        }
      ],
      "source": [
        "arr21=np.array([[1,2,3]])\n",
        "arr21[::-1]"
      ]
    }
  ],
  "metadata": {
    "kernelspec": {
      "display_name": "Python 3 (ipykernel)",
      "language": "python",
      "name": "python3"
    },
    "language_info": {
      "codemirror_mode": {
        "name": "ipython",
        "version": 3
      },
      "file_extension": ".py",
      "mimetype": "text/x-python",
      "name": "python",
      "nbconvert_exporter": "python",
      "pygments_lexer": "ipython3",
      "version": "3.11.5"
    },
    "colab": {
      "provenance": []
    }
  },
  "nbformat": 4,
  "nbformat_minor": 5
}