{
  "nbformat": 4,
  "nbformat_minor": 0,
  "metadata": {
    "colab": {
      "provenance": []
    },
    "kernelspec": {
      "name": "python3",
      "display_name": "Python 3"
    },
    "language_info": {
      "name": "python"
    }
  },
  "cells": [
    {
      "cell_type": "markdown",
      "source": [
        "1.Program to find sum of 2 numbers"
      ],
      "metadata": {
        "id": "mCkOUzM-hM6U"
      }
    },
    {
      "cell_type": "code",
      "execution_count": null,
      "metadata": {
        "colab": {
          "base_uri": "https://localhost:8080/"
        },
        "id": "eycaZmhRhLZ-",
        "outputId": "d2fa0288-e93d-4678-eb83-27b8f9a3f429"
      },
      "outputs": [
        {
          "output_type": "stream",
          "name": "stdout",
          "text": [
            "Enter the first number2\n",
            "Enter the second number3\n",
            "5\n"
          ]
        }
      ],
      "source": [
        "a=int(input(\"Enter the first number\"))\n",
        "b=int(input(\"Enter the second number\"))\n",
        "c=(a)+(b)\n",
        "print(c)"
      ]
    },
    {
      "cell_type": "markdown",
      "source": [
        "2.program to find product of 2 numbers"
      ],
      "metadata": {
        "id": "evwHAmKXh5Xt"
      }
    },
    {
      "cell_type": "code",
      "source": [
        "x=int(input(\"Enter the first number\"))\n",
        "y=int(input(\"Enter the second number\"))\n",
        "z=x*y\n",
        "print(z)"
      ],
      "metadata": {
        "colab": {
          "base_uri": "https://localhost:8080/"
        },
        "id": "Pj_CVjP_h3Fn",
        "outputId": "4dea2f85-c199-4097-e96a-d63043bf3ad6"
      },
      "execution_count": null,
      "outputs": [
        {
          "output_type": "stream",
          "name": "stdout",
          "text": [
            "Enter the first number4\n",
            "Enter the second number4\n",
            "16\n"
          ]
        }
      ]
    },
    {
      "cell_type": "markdown",
      "source": [
        "PROGRAM TO FIND QUOTIENT AND REMINDER OF 2 NUMBERS"
      ],
      "metadata": {
        "id": "3_94KR-TkMHf"
      }
    },
    {
      "cell_type": "code",
      "source": [
        "a=int(input(\"Enter the first number\"))\n",
        "b=int(input(\"Enter the second number\"))\n",
        "q=int(a/b)\n",
        "r=(a%b)\n",
        "print(q)\n",
        "print(r)"
      ],
      "metadata": {
        "colab": {
          "base_uri": "https://localhost:8080/"
        },
        "id": "9svdwTr7ijMC",
        "outputId": "13e60bcf-52d7-4f43-d4c0-a01e46468759"
      },
      "execution_count": null,
      "outputs": [
        {
          "output_type": "stream",
          "name": "stdout",
          "text": [
            "Enter the first number5\n",
            "Enter the second number3\n",
            "1\n",
            "2\n"
          ]
        }
      ]
    },
    {
      "cell_type": "markdown",
      "source": [
        "Write a program to find length of a sring"
      ],
      "metadata": {
        "id": "1OYU0OOsKLoC"
      }
    },
    {
      "cell_type": "code",
      "source": [
        "string=input(\"Enter your string:\")\n",
        "print(len(string))"
      ],
      "metadata": {
        "id": "m3Xr8TBNlCn5",
        "colab": {
          "base_uri": "https://localhost:8080/"
        },
        "outputId": "b6f606da-9da0-434f-f0e8-4903607801c7"
      },
      "execution_count": null,
      "outputs": [
        {
          "output_type": "stream",
          "name": "stdout",
          "text": [
            "Enter your string:I was absent yesterday\n",
            "22\n"
          ]
        }
      ]
    },
    {
      "cell_type": "markdown",
      "source": [
        "Write a program to find the number of occurence of charecter in a string"
      ],
      "metadata": {
        "id": "V2vWO8wULJP-"
      }
    },
    {
      "cell_type": "code",
      "source": [
        "s=input(\"Enter your string:\")\n",
        "C=input(\"enter your charecter:\")\n",
        "count=0\n",
        "for i in s:\n",
        "  if (i==C):\n",
        "   count=count+1\n",
        "print(count)"
      ],
      "metadata": {
        "id": "TNhCevYjKvlm",
        "colab": {
          "base_uri": "https://localhost:8080/"
        },
        "outputId": "24f32fdd-a0e5-43b4-8255-a6435bcfe7a7"
      },
      "execution_count": null,
      "outputs": [
        {
          "output_type": "stream",
          "name": "stdout",
          "text": [
            "Enter your string:AMITHA\n",
            "enter your charecter:A\n",
            "2\n"
          ]
        }
      ]
    },
    {
      "cell_type": "markdown",
      "source": [
        "Write a program to convert a string to all uppercase"
      ],
      "metadata": {
        "id": "v9reicvLLsgu"
      }
    },
    {
      "cell_type": "code",
      "source": [
        "K=str(input(\"Enter your string:\"))\n",
        "K.upper()"
      ],
      "metadata": {
        "id": "HPGioq5iLrz2",
        "colab": {
          "base_uri": "https://localhost:8080/",
          "height": 52
        },
        "outputId": "60b2f554-359a-48ed-dd6c-9d284e761da4"
      },
      "execution_count": null,
      "outputs": [
        {
          "name": "stdout",
          "output_type": "stream",
          "text": [
            "Enter your string:MiCrOsOfT \n"
          ]
        },
        {
          "output_type": "execute_result",
          "data": {
            "text/plain": [
              "'MICROSOFT '"
            ],
            "application/vnd.google.colaboratory.intrinsic+json": {
              "type": "string"
            }
          },
          "metadata": {},
          "execution_count": 13
        }
      ]
    },
    {
      "cell_type": "markdown",
      "source": [
        "Write a program to convert a string to all lowercase"
      ],
      "metadata": {
        "id": "ejMOuPWvL2JO"
      }
    },
    {
      "cell_type": "code",
      "source": [
        "L=input(\"Enter your string\")\n",
        "L.lower()"
      ],
      "metadata": {
        "id": "BXB-8YufL1eH",
        "colab": {
          "base_uri": "https://localhost:8080/",
          "height": 52
        },
        "outputId": "534d6214-3035-4137-be14-729468dc3791"
      },
      "execution_count": null,
      "outputs": [
        {
          "name": "stdout",
          "output_type": "stream",
          "text": [
            "Enter your stringMiCrOsOfT \n"
          ]
        },
        {
          "output_type": "execute_result",
          "data": {
            "text/plain": [
              "'microsoft '"
            ],
            "application/vnd.google.colaboratory.intrinsic+json": {
              "type": "string"
            }
          },
          "metadata": {},
          "execution_count": 12
        }
      ]
    }
  ]
}