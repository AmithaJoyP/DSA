{
  "nbformat": 4,
  "nbformat_minor": 0,
  "metadata": {
    "colab": {
      "provenance": []
    },
    "kernelspec": {
      "name": "python3",
      "display_name": "Python 3"
    },
    "language_info": {
      "name": "python"
    }
  },
  "cells": [
    {
      "cell_type": "code",
      "execution_count": null,
      "metadata": {
        "colab": {
          "base_uri": "https://localhost:8080/"
        },
        "id": "0DP-yhrtAbCT",
        "outputId": "ce58e735-c183-4142-c398-53a1c77b5739"
      },
      "outputs": [
        {
          "output_type": "stream",
          "name": "stdout",
          "text": [
            "Enter the length:4\n",
            "Enter the width:6\n",
            "24\n"
          ]
        }
      ],
      "source": [
        "#Write a python program to calculate the area of a rectangle given its length and width\n",
        "l=int(input(\"Enter the length:\"))\n",
        "w=int(input(\"Enter the width:\"))\n",
        "A=l*w\n",
        "print(A)"
      ]
    },
    {
      "cell_type": "code",
      "source": [
        "#Create a program that takes two numbers from the user and calculates their sum,difference,product and quotient.\n",
        "a=int(input(\"Enter you first number:\"))\n",
        "b=int(input(\"Enter your second number:\"))\n",
        "sum=a+b\n",
        "print(sum)"
      ],
      "metadata": {
        "colab": {
          "base_uri": "https://localhost:8080/"
        },
        "id": "UAqMw4vyBJHY",
        "outputId": "3bb0618e-73fa-4593-afb8-dc5f405d6f79"
      },
      "execution_count": null,
      "outputs": [
        {
          "output_type": "stream",
          "name": "stdout",
          "text": [
            "Enter you first number:4\n",
            "Enter your second number:3\n",
            "7\n"
          ]
        }
      ]
    },
    {
      "cell_type": "code",
      "source": [
        "dif=a-b\n",
        "print(dif)"
      ],
      "metadata": {
        "colab": {
          "base_uri": "https://localhost:8080/"
        },
        "id": "vDJcuVtqCNO2",
        "outputId": "d5518fc3-5fad-49d0-b4b5-53f67f411555"
      },
      "execution_count": null,
      "outputs": [
        {
          "output_type": "stream",
          "name": "stdout",
          "text": [
            "1\n"
          ]
        }
      ]
    },
    {
      "cell_type": "code",
      "source": [
        "pro=a*b\n",
        "print(pro)"
      ],
      "metadata": {
        "colab": {
          "base_uri": "https://localhost:8080/"
        },
        "id": "MkaixAmkCn6B",
        "outputId": "3cda123d-6dc4-40e6-8a4f-d7bcef327d1b"
      },
      "execution_count": null,
      "outputs": [
        {
          "output_type": "stream",
          "name": "stdout",
          "text": [
            "12\n"
          ]
        }
      ]
    },
    {
      "cell_type": "code",
      "source": [
        "quo=a//b\n",
        "print(quo)"
      ],
      "metadata": {
        "colab": {
          "base_uri": "https://localhost:8080/"
        },
        "id": "amJ0w9VWCu2N",
        "outputId": "8064a1d4-be2f-4d95-be87-7fcf6b3ba12a"
      },
      "execution_count": null,
      "outputs": [
        {
          "output_type": "stream",
          "name": "stdout",
          "text": [
            "1\n"
          ]
        }
      ]
    },
    {
      "cell_type": "code",
      "source": [
        "#Create a program to convert temperature from farenheit to celsius and vice versa,based on user input\n",
        "F=int(input('Enter the temperature in farenheit:'))\n",
        "t1=5/9*(F-32)\n",
        "print(t1)"
      ],
      "metadata": {
        "id": "YVkjHtzvC3kU",
        "colab": {
          "base_uri": "https://localhost:8080/"
        },
        "outputId": "cb86c287-0f51-4d26-f7cb-10aa0f24566c"
      },
      "execution_count": null,
      "outputs": [
        {
          "output_type": "stream",
          "name": "stdout",
          "text": [
            "Enter the temperature in farenheit:100\n",
            "37.77777777777778\n"
          ]
        }
      ]
    },
    {
      "cell_type": "code",
      "source": [
        "C=int(input(\"Enter the temperature in celsius:\"))\n",
        "t2=(C*(9/5))+32\n",
        "print(t2)"
      ],
      "metadata": {
        "id": "fP8o9tY_5mgA",
        "colab": {
          "base_uri": "https://localhost:8080/"
        },
        "outputId": "c88e72a7-a190-40b9-e578-377132493098"
      },
      "execution_count": null,
      "outputs": [
        {
          "output_type": "stream",
          "name": "stdout",
          "text": [
            "Enter the temperature in celsius:35\n",
            "95.0\n"
          ]
        }
      ]
    },
    {
      "cell_type": "code",
      "source": [
        "#Implement a program that checks if a given number is positive,negative or zero\n",
        "h=int(input(\"Enter your number:\"))\n",
        "if (h>0):\n",
        "    print(\"positive\")\n",
        "elif (h==0):\n",
        "    print(\"Zero\")\n",
        "else:\n",
        "    print(\"negative\")"
      ],
      "metadata": {
        "id": "fIcEluN3EmS8",
        "colab": {
          "base_uri": "https://localhost:8080/"
        },
        "outputId": "2ac9eef9-4403-47da-a82e-777ee750c169"
      },
      "execution_count": null,
      "outputs": [
        {
          "output_type": "stream",
          "name": "stdout",
          "text": [
            "Enter your number:5\n",
            "positive\n"
          ]
        }
      ]
    },
    {
      "cell_type": "code",
      "source": [
        "#Write a python program function that determines if a year is a leap year,taking into account leap year rules.\n",
        "#a)A leap year is a leap year if it is divisible by 4,except for years that are divisible by 100.\n",
        "#b)However,years divisible by 400 are also leap years.\n",
        "y=int(input(\"Enter your year:\"))\n",
        "n=y\n",
        "if(y%4==0 and y%100!=0 or y%400==100):\n",
        "  print(n,\"Leap year\")\n",
        "else:\n",
        "  print(n,\"Not a leap year\")"
      ],
      "metadata": {
        "id": "wIqeK1S9lI7K",
        "colab": {
          "base_uri": "https://localhost:8080/"
        },
        "outputId": "ce7a2b76-d7a3-450d-cb06-b5f25d5f9aae"
      },
      "execution_count": null,
      "outputs": [
        {
          "output_type": "stream",
          "name": "stdout",
          "text": [
            "Enter your year:2004\n",
            "2004 Leap year\n"
          ]
        }
      ]
    },
    {
      "cell_type": "code",
      "source": [
        "#Create a program that categorise a given student's grade(A,B,C,D or F)based on their numerical score.Given below is grading scale.\n",
        "#A:90-100\n",
        "#B:80-89\n",
        "#C:70-79\n",
        "#D:60-69\n",
        "#F:0-59\n",
        "S=int(input(\"Enter your score:\"))\n",
        "if(100>S and S>=90):\n",
        "  print(\"A\")\n",
        "elif(80>S and S>=89):\n",
        "  print('B')\n",
        "elif(70>S and S>=79):\n",
        "  print(\"C\")\n",
        "elif(60>S and S>=69):\n",
        "  print(\"D\")\n",
        "else:\n",
        "  print(\"F\")"
      ],
      "metadata": {
        "id": "-CBN2KSfoH6Z",
        "colab": {
          "base_uri": "https://localhost:8080/"
        },
        "outputId": "07abee34-d523-44c8-ae56-42d19d09a282"
      },
      "execution_count": 40,
      "outputs": [
        {
          "output_type": "stream",
          "name": "stdout",
          "text": [
            "Enter your score:50\n",
            "F\n"
          ]
        }
      ]
    },
    {
      "cell_type": "code",
      "source": [
        "#Write a python loop to print numbers from 10 to 1.\n",
        "for i in range(10,0,-1):\n",
        "  print(i)"
      ],
      "metadata": {
        "colab": {
          "base_uri": "https://localhost:8080/"
        },
        "id": "1TvJ7m1vfFR0",
        "outputId": "62a01345-5403-499e-a3b1-118f76916dec"
      },
      "execution_count": null,
      "outputs": [
        {
          "output_type": "stream",
          "name": "stdout",
          "text": [
            "10\n",
            "9\n",
            "8\n",
            "7\n",
            "6\n",
            "5\n",
            "4\n",
            "3\n",
            "2\n",
            "1\n"
          ]
        }
      ]
    },
    {
      "cell_type": "code",
      "source": [
        "#Write a program that prints all the even numbers from 1 to 20 using a for loop\n",
        "for i in range(2,20,2):\n",
        " print(i)"
      ],
      "metadata": {
        "colab": {
          "base_uri": "https://localhost:8080/"
        },
        "id": "-pDm07X2foxf",
        "outputId": "aab06c1c-b5f3-47ea-adff-62ca1c924287"
      },
      "execution_count": null,
      "outputs": [
        {
          "output_type": "stream",
          "name": "stdout",
          "text": [
            "2\n",
            "4\n",
            "6\n",
            "8\n",
            "10\n",
            "12\n",
            "14\n",
            "16\n",
            "18\n"
          ]
        }
      ]
    },
    {
      "cell_type": "code",
      "source": [
        "#Write a program that generates and prints the multiplication table for a given number.For example,if the user enters 5,the program should print the table of 5(5×1,5×2,5×3,...,5×10)\n",
        "M=int(input(\"Enter your number:\"))\n",
        "count=0\n",
        "print(\"The multiplication table of:M\")\n",
        "for count in range(1,11):\n",
        "  print(M,'x',count,'=',M*count+1)"
      ],
      "metadata": {
        "id": "YpKHD6IlgV6J",
        "colab": {
          "base_uri": "https://localhost:8080/"
        },
        "outputId": "9fde5d35-18de-4278-954d-32831a6fd23d"
      },
      "execution_count": null,
      "outputs": [
        {
          "output_type": "stream",
          "name": "stdout",
          "text": [
            "Enter your number:5\n",
            "The multiplication table of:M\n",
            "5 x 1 = 6\n",
            "5 x 2 = 11\n",
            "5 x 3 = 16\n",
            "5 x 4 = 21\n",
            "5 x 5 = 26\n",
            "5 x 6 = 31\n",
            "5 x 7 = 36\n",
            "5 x 8 = 41\n",
            "5 x 9 = 46\n",
            "5 x 10 = 51\n"
          ]
        }
      ]
    },
    {
      "cell_type": "code",
      "source": [],
      "metadata": {
        "id": "a_wHV99_dlxF"
      },
      "execution_count": null,
      "outputs": []
    }
  ]
}